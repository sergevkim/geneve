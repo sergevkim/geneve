{
 "cells": [
  {
   "cell_type": "code",
   "execution_count": null,
   "metadata": {},
   "outputs": [],
   "source": []
  }
 ],
 "metadata": {
  "kernelspec": {
   "display_name": "Python 3.9.12 ('base')",
   "language": "python",
   "name": "python3"
  },
  "language_info": {
   "name": "python",
   "version": "3.9.12"
  },
  "orig_nbformat": 4,
  "vscode": {
   "interpreter": {
    "hash": "697b48f8fd6cd1572d7f8e98fbff849bb1d15b2cf0e8b1a59f3a9a6be8bebe92"
   }
  }
 },
 "nbformat": 4,
 "nbformat_minor": 2
}
